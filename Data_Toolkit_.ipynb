{
  "nbformat": 4,
  "nbformat_minor": 0,
  "metadata": {
    "colab": {
      "provenance": []
    },
    "kernelspec": {
      "name": "python3",
      "display_name": "Python 3"
    },
    "language_info": {
      "name": "python"
    }
  },
  "cells": [
    {
      "cell_type": "markdown",
      "source": [
        "# Data Toolkit Assignment"
      ],
      "metadata": {
        "id": "T_mNhPxe1zsp"
      }
    },
    {
      "cell_type": "markdown",
      "source": [
        "1. What is NumPy, and why is it widely used in Python?\n"
      ],
      "metadata": {
        "id": "72N6ga6e12sz"
      }
    },
    {
      "cell_type": "markdown",
      "source": [
        "=> NumPy is a fundamental library for scientific computing in Python. It\n",
        "    essentially introduces a powerful data structure called the ndarray , which is much more efficient than Python's built-in lists for handling large datasets and performing mathematical operations.NumPy aims to provide an array object that is up to 50x faster than traditional Python lists."
      ],
      "metadata": {
        "id": "WNUrNwa962qQ"
      }
    },
    {
      "cell_type": "markdown",
      "source": [
        "2. How does broadcasting work in NumPy?\n"
      ],
      "metadata": {
        "id": "l7w49nwe2bBe"
      }
    },
    {
      "cell_type": "markdown",
      "source": [
        "=> Broadcasting in Python, particularly with NumPy, refers to the ability to\n",
        "    perform arithmetic operations on arrays of different shapes. This feature allows smaller arrays to be automatically expanded to match the shape of larger arrays, enabling efficient and concise code without the need for explicit loops."
      ],
      "metadata": {
        "id": "Jg2BmuK463Ry"
      }
    },
    {
      "cell_type": "markdown",
      "source": [
        "3. What is a Pandas DataFrame?\n"
      ],
      "metadata": {
        "id": "t-gMY9012eqD"
      }
    },
    {
      "cell_type": "markdown",
      "source": [
        "=> A Pandas DataFrame is a two-dimensional, size-mutable, and potentially\n",
        "    heterogeneous tabular data structure with labeled axes. It is similar to a table in a database or an Excel spreadsheet. DataFrames are one of the primary data structures in the Pandas library, which is widely used for data manipulation and analysis in Python.\n"
      ],
      "metadata": {
        "id": "TzwtXBnW64QO"
      }
    },
    {
      "cell_type": "markdown",
      "source": [
        "4. Explain the use of the groupby() method in Pandas.\n"
      ],
      "metadata": {
        "id": "36-Zb6d12he3"
      }
    },
    {
      "cell_type": "markdown",
      "source": [
        "=> Pandas `groupby()` function is a powerful tool used to split a DataFrame into groups based on one or more columns, allowing for efficient data analysis and aggregation. It follows a “split-apply-combine” strategy, where data is divided into groups, a function is applied to each group, and the results are combined into a new DataFrame."
      ],
      "metadata": {
        "id": "IIJ4D-id646p"
      }
    },
    {
      "cell_type": "markdown",
      "source": [
        "5. Why is Seaborn preferred for statistical visualizations?\n"
      ],
      "metadata": {
        "id": "jwJJ6PeS2mMW"
      }
    },
    {
      "cell_type": "markdown",
      "source": [
        "=> Data visualization can be done by seaborn and it can transform complex datasets into clear visual representations making it easier to understand, identify trends and relationships within the data. This article will guide you through various plotting functions available in Seaborn."
      ],
      "metadata": {
        "id": "eQuHMuu165oL"
      }
    },
    {
      "cell_type": "markdown",
      "source": [
        "6. What are the differences between NumPy arrays and Python lists?\n"
      ],
      "metadata": {
        "id": "fft12x6H2r1Y"
      }
    },
    {
      "cell_type": "markdown",
      "source": [
        "=> Numpy arrays is a typed array, the array in memory stores a homogenous, densely packed numbers.\n",
        "Python list is a heterogeneous list, the list in memory stores references to objects rather than the number themselves.\n",
        "This means that Python list requires dereferencing a pointer every time the code needs to access the number. While numpy array can be processed directly by numpy vector operations, which makes these vector operations much faster than anything you can code with list."
      ],
      "metadata": {
        "id": "8uFGq2Hj66Gc"
      }
    },
    {
      "cell_type": "markdown",
      "source": [
        "7. What is a heatmap, and when should it be used?\n"
      ],
      "metadata": {
        "id": "1hZ_iJT92uX6"
      }
    },
    {
      "cell_type": "markdown",
      "source": [
        "=> Heatmap data visualization is a powerful tool used to represent numerical\n",
        "    data graphically, where values are depicted using colors. This method is particularly effective for identifying patterns, trends, and anomalies within large datasets. This article will explore what heatmap data visualization is, its types, benefits, and best practices for using it effectively."
      ],
      "metadata": {
        "id": "2Mernd4n665g"
      }
    },
    {
      "cell_type": "markdown",
      "source": [
        "8. What does the term “vectorized operation” mean in NumPy?\n"
      ],
      "metadata": {
        "id": "OdvZ_41n2xWe"
      }
    },
    {
      "cell_type": "markdown",
      "source": [
        "=> Vectorization in NumPy is a method of performing operations on entire arrays without explicit loops. This approach leverages NumPy’s underlying C implementation for faster and more efficient computations. By replacing iterative processes with vectorized functions, you can significantly optimize performance in data analysis, machine learning, and scientific computing tasks"
      ],
      "metadata": {
        "id": "C5ltcwSD67pf"
      }
    },
    {
      "cell_type": "markdown",
      "source": [
        "9. How does Matplotlib differ from Plotly?\n"
      ],
      "metadata": {
        "id": "7Rdwhqy321ZS"
      }
    },
    {
      "cell_type": "markdown",
      "source": [
        "=> Differences between Plotly and Matplotlib:\n",
        "   * Matplotlib is a simple and flexible library for creating basic visualizations.\n",
        "   * Plotly is more powerful and interactive, well-suited for complex and dynamic plots for web-based applications and collaboration.\n",
        "   * Matplotlib is highly customizable and performs well with large datasets.\n",
        "   * Plotly is good for creating interactive and web-based visualizations, ideal for exploratory data analysis and dashboards"
      ],
      "metadata": {
        "id": "KJ5IiuI-68ba"
      }
    },
    {
      "cell_type": "markdown",
      "source": [
        "10. What is the significance of hierarchical indexing in Pandas?\n"
      ],
      "metadata": {
        "id": "ci45IjxP3P3c"
      }
    },
    {
      "cell_type": "markdown",
      "source": [
        "=> Hierarchical indexing, also known as multi-indexing, is a feature of pandas\n",
        "    that allows you to have multiple index levels on an axis. It provides a way to work with higher-dimensional data using the familiar one-dimensional Series and two-dimensional DataFrame structures."
      ],
      "metadata": {
        "id": "hmihnlv_69EC"
      }
    },
    {
      "cell_type": "markdown",
      "source": [
        "11. What is the role of Seaborn’s pairplot() function?\n"
      ],
      "metadata": {
        "id": "GYtW5Keo3TUy"
      }
    },
    {
      "cell_type": "markdown",
      "source": [
        "=> A pairplot is a data visualization that plots pairwise relationships between\n",
        "    variables in a dataset. It allows you to visualize the relationships between pairs of variables, making it easier to understand the data's structure and correlations."
      ],
      "metadata": {
        "id": "JROXUn6-69kr"
      }
    },
    {
      "cell_type": "markdown",
      "source": [
        "12. What is the purpose of the describe() function in Pandas?\n"
      ],
      "metadata": {
        "id": "cKz1oLEF3V0i"
      }
    },
    {
      "cell_type": "markdown",
      "source": [
        "=> `describe()` method in Pandas is used to generate descriptive statistics of DataFrame columns. It gives a quick summary of key statistical metrics like mean, standard deviation, percentilesetc."
      ],
      "metadata": {
        "id": "51oypkan6-D3"
      }
    },
    {
      "cell_type": "markdown",
      "source": [
        "13.  Why is handling missing data important in Pandas?\n"
      ],
      "metadata": {
        "id": "jz2KzvIb3gk3"
      }
    },
    {
      "cell_type": "markdown",
      "source": [
        "=> In Pandas, missing values, often represented as NaN (Not a Number), can  \n",
        "    cause problems during data processing and analysis. These gaps in data can lead to incorrect analysis and misleading conclusions"
      ],
      "metadata": {
        "id": "-RH79qBX6-j_"
      }
    },
    {
      "cell_type": "markdown",
      "source": [
        "14.  What are the benefits of using Plotly for data visualization?\n"
      ],
      "metadata": {
        "id": "tQF2fApn3jlX"
      }
    },
    {
      "cell_type": "markdown",
      "source": [
        "=> `Plotly` is a Python library that helps you create interactive and visually appealing charts and graphs. It allows you to display data in a way that’s easy to explore and understand, such as by zooming in, hovering over data points for more details, and clicking to get deeper insights Plotly uses JavaScript to handle interactivity, but you don’t need to worry about that when using it in Python. You simply write Python code to create the charts, and Plotly takes care of making them interactive."
      ],
      "metadata": {
        "id": "WoG99BgE6_Kr"
      }
    },
    {
      "cell_type": "markdown",
      "source": [
        "15.  How does NumPy handle multidimensional arrays?\n"
      ],
      "metadata": {
        "id": "lmS-8YuA3mOt"
      }
    },
    {
      "cell_type": "markdown",
      "source": [
        "=> `NumPy` is a general-purpose array-processing package. It provides a high-performance multidimensional array object and tools for working with these arrays. It is the fundamental package for scientific computing with Python. It contains various features."
      ],
      "metadata": {
        "id": "Aj-Q6fjl6_1z"
      }
    },
    {
      "cell_type": "markdown",
      "source": [
        "16.  What is the role of Bokeh in data visualization?\n"
      ],
      "metadata": {
        "id": "Y4gxlHum3pFb"
      }
    },
    {
      "cell_type": "markdown",
      "source": [
        "=> Bokeh is a data visualization library in Python that provides            \n",
        "high-performance interactive charts and plots. Bokeh output can be obtained in\n",
        "various mediums like notebook, html and server. It is possible to embed bokeh plots in Django and flask apps."
      ],
      "metadata": {
        "id": "p7rp0XHZ7A2K"
      }
    },
    {
      "cell_type": "markdown",
      "source": [
        "17. Explain the difference between apply() and map() in Pandas.\n"
      ],
      "metadata": {
        "id": "v842G1QV3ret"
      }
    },
    {
      "cell_type": "markdown",
      "source": [
        "=> The Pandas library provides powerful tools for data manipulation and analysis. Two of these tools are the map() and apply() methods, which allow you to apply functions to values, rows, or columns in DataFrames and Series.\n",
        "\n",
        "Using map()\n",
        "\n",
        "The map() method is used to apply a function to each element in a Pandas Series. It can take a function, dictionary, or Series as an argument."
      ],
      "metadata": {
        "id": "kJqtCpdg7BZU"
      }
    },
    {
      "cell_type": "markdown",
      "source": [
        "18. What are some advanced features of NumPy?\n"
      ],
      "metadata": {
        "id": "CGXfE0213w_f"
      }
    },
    {
      "cell_type": "markdown",
      "source": [
        "=> These are some advanced features of NumPy:\n",
        "\n",
        "1. High-performance N-dimensional array object\n",
        "2. It contains tools for integrating code from C/C++ and Fortran\n",
        "3. It contains a multidimensional container for generic data\n",
        "4. Additional linear algebra, Fourier transform, and random number capabilities\n",
        "5. It consists of broadcasting functions\n",
        "6. It had data type definition capability to work with varied databases"
      ],
      "metadata": {
        "id": "UXBE_6yD7CCo"
      }
    },
    {
      "cell_type": "markdown",
      "source": [
        "19.  How does  Pandas simplify time series analysis?\n"
      ],
      "metadata": {
        "id": "R2M0AavP3zk-"
      }
    },
    {
      "cell_type": "markdown",
      "source": [
        "=> Pandas library as it has compiled more features to work on the DateTime series. We can include the date and time for every record and can fetch the records of DataFrame.\n",
        "We can find out the data within a certain range of dates and times by using the DateTime module of Pandas library."
      ],
      "metadata": {
        "id": "sMTDkM887Cuf"
      }
    },
    {
      "cell_type": "markdown",
      "source": [
        "20.  What is the role of a pivot table in Pandas?\n"
      ],
      "metadata": {
        "id": "etT7maqc32Qm"
      }
    },
    {
      "cell_type": "markdown",
      "source": [
        "=> A pivot table is a data analysis tool that allows you to take columns of raw data from a pandas DataFrame, summarize them, and then analyze the summary data to reveal its insights. Pivot tables allow you to perform common aggregate statistical calculations such as sums, counts, averages etc."
      ],
      "metadata": {
        "id": "rKBugpN27DSU"
      }
    },
    {
      "cell_type": "markdown",
      "source": [
        "21.  Why is NumPy’s array slicing faster than Python’s list slicing?\n"
      ],
      "metadata": {
        "id": "hpEtr2NF35DE"
      }
    },
    {
      "cell_type": "markdown",
      "source": [
        "=> NumPy is a Python fundamental package used for efficient manipulations and\n",
        "    operations on High-level mathematical functions, Multi-dimensional arrays, Linear algebra, Fourier Transformations, Random Number Capabilities, etc. It provides tools for integrating C, C++, and Fortran code in Python. NumPy is mostly used in Python for scientific computing. NumPy is a Python fundamental package used for efficient manipulations and operations on High-level mathematical functions, Multi-dimensional arrays, Linear algebra, Fourier Transformations, Random Number Capabilities, etc. It provides tools for integrating C, C++, and Fortran code in Python. NumPy is mostly used in Python for scientific computing."
      ],
      "metadata": {
        "id": "nJpJbAPt7Fx-"
      }
    },
    {
      "cell_type": "markdown",
      "source": [
        "22.  What are some common use cases for Seaborn?"
      ],
      "metadata": {
        "id": "SvMph9fx38pP"
      }
    },
    {
      "cell_type": "markdown",
      "source": [
        "=> Seaborn is a Python data visualization library built on top of Matplotlib. It's renowned for creating statistically informative and visually appealing graphics with a high-level, declarative interface. Here are some of its prevalent use cases:\n",
        "#Visualizing Statistical Relationships\n",
        " * Scatter Plots\n",
        " * Line Plots\n",
        " * Regression Plots\n",
        "\n",
        "#Exploring Data Distributions\n",
        " * Histograms\n",
        " * Kernel Density Estimation (KDE) Plots\n",
        " * Box Plots\n",
        " * Violin Plots"
      ],
      "metadata": {
        "id": "8DlsA-S67HC7"
      }
    },
    {
      "cell_type": "markdown",
      "source": [
        "#Practical Questions"
      ],
      "metadata": {
        "id": "sKNNEj1L4O4V"
      }
    },
    {
      "cell_type": "markdown",
      "source": [
        "1. How do you create a 2D NumPy array and calculate the sum of each row?\n"
      ],
      "metadata": {
        "id": "z4lqEeII4bGm"
      }
    },
    {
      "cell_type": "code",
      "source": [
        " #code for the above ques.\n",
        "import numpy as np\n",
        "arr = np.array([[1, 2, 3], [4, 5, 6], [7, 8, 9]])\n",
        "row_sums = np.sum(arr, axis=1)\n",
        "print(row_sums)"
      ],
      "metadata": {
        "id": "RYW1WT406Kgi",
        "colab": {
          "base_uri": "https://localhost:8080/"
        },
        "outputId": "50402ba7-3e61-4183-fa4e-8598d0257d3e"
      },
      "execution_count": 28,
      "outputs": [
        {
          "output_type": "stream",
          "name": "stdout",
          "text": [
            "[ 6 15 24]\n"
          ]
        }
      ]
    },
    {
      "cell_type": "markdown",
      "source": [
        "2. Write a Pandas script to find the mean of a specific column in a DataFrame.\n"
      ],
      "metadata": {
        "id": "p6uAE_9046Px"
      }
    },
    {
      "cell_type": "code",
      "source": [
        " #code for the above ques.\n",
        "import pandas as pd\n",
        "df = pd.DataFrame({'A': [1, 2, 3], 'B': [4, 5, 6], 'C': [7, 8, 9]})\n",
        "mean_column_B = df['B'].mean()"
      ],
      "metadata": {
        "id": "K-D1lVfy6Ms1"
      },
      "execution_count": 29,
      "outputs": []
    },
    {
      "cell_type": "markdown",
      "source": [
        "3. Create a scatter plot using Matplotlib.\n",
        "\n"
      ],
      "metadata": {
        "id": "BzAcIZw-5Twd"
      }
    },
    {
      "cell_type": "code",
      "source": [
        " #code for the above ques.\n",
        "import matplotlib.pyplot as plt\n",
        "x = [1, 2, 3, 4, 5]\n",
        "y = [2, 3, 5, 7, 11]\n",
        "plt.scatter(x, y)"
      ],
      "metadata": {
        "id": "YoKAEzCV6NUI",
        "collapsed": true
      },
      "execution_count": null,
      "outputs": []
    },
    {
      "cell_type": "markdown",
      "source": [
        "4. How do you calculate the correlation matrix using Seaborn and visualize it with a heatmap?\n"
      ],
      "metadata": {
        "id": "YCLrTGI35WpG"
      }
    },
    {
      "cell_type": "code",
      "source": [
        "# code for the above ques.\n",
        "import seaborn as sns\n",
        "import pandas as pd\n"
      ],
      "metadata": {
        "id": "zf3XokUM6N3E"
      },
      "execution_count": 3,
      "outputs": []
    },
    {
      "cell_type": "markdown",
      "source": [
        "5. Generate a bar plot using Plotly.\n"
      ],
      "metadata": {
        "id": "GAEO64Lk5ZSF"
      }
    },
    {
      "cell_type": "code",
      "source": [
        " #code for the above ques.\n",
        "import plotly.express as px\n",
        "df = px.data.gapminder().query(\"year == 2007\")\n",
        "fig = px.bar(df, x='continent', y='pop', color='continent', title='Population by Continent')\n",
        "fig.show()"
      ],
      "metadata": {
        "id": "NmOSKvu46Of7"
      },
      "execution_count": null,
      "outputs": []
    },
    {
      "cell_type": "markdown",
      "source": [
        "6. Create a DataFrame and add a new column based on an existing column.\n"
      ],
      "metadata": {
        "id": "P3reSRsw5b4J"
      }
    },
    {
      "cell_type": "code",
      "source": [
        " #code for the above ques.\n",
        "import pandas as pd\n",
        "df = pd.DataFrame({'A': [1, 2, 3], 'B': [4, 5, 6]})\n",
        "df['C'] = df['A'] + df['B']"
      ],
      "metadata": {
        "id": "ZQ2j1AJg6PKN"
      },
      "execution_count": 32,
      "outputs": []
    },
    {
      "cell_type": "markdown",
      "source": [
        "7. Write a program to perform element-wise multiplication of two NumPy arrays.\n"
      ],
      "metadata": {
        "id": "qvrr0k7Y5eC2"
      }
    },
    {
      "cell_type": "code",
      "source": [
        " #code for the above ques.\n",
        "import numpy as np\n",
        "arr1 = np.array([1, 2, 3])\n",
        "arr2 = np.array([4, 5, 6])\n",
        "result = arr1 * arr2"
      ],
      "metadata": {
        "id": "QHwgV4c56Pol"
      },
      "execution_count": 5,
      "outputs": []
    },
    {
      "cell_type": "markdown",
      "source": [
        "8. Create a line plot with multiple lines using Matplotlib.\n"
      ],
      "metadata": {
        "id": "BgkdiKww5gFI"
      }
    },
    {
      "cell_type": "code",
      "source": [
        " #code for the above ques.\n",
        "import matplotlib.pyplot as plt"
      ],
      "metadata": {
        "id": "8O8aaM-L6QGN"
      },
      "execution_count": 33,
      "outputs": []
    },
    {
      "cell_type": "markdown",
      "source": [
        "9. Generate a Pandas DataFrame and filter rows where a column value is greater than a threshold.\n"
      ],
      "metadata": {
        "id": "NNm3tsjv5h5B"
      }
    },
    {
      "cell_type": "code",
      "source": [
        " #code for the above ques.\n",
        " import pandas as pd\n",
        " df = pd.DataFrame({'A': [1, 2, 3, 4, 5], 'B': [10, 20, 30, 40, 50]})"
      ],
      "metadata": {
        "id": "Zc-GK8gQ6QnT"
      },
      "execution_count": 34,
      "outputs": []
    },
    {
      "cell_type": "markdown",
      "source": [
        "10. Create a histogram using Seaborn to visualize a distribution.\n"
      ],
      "metadata": {
        "id": "jGxdOJ3b5nNq"
      }
    },
    {
      "cell_type": "code",
      "source": [
        " #code for the above ques.\n",
        " import seaborn as sns\n",
        "\n",
        " import pandas as pd"
      ],
      "metadata": {
        "id": "EaoydKLm6RP_"
      },
      "execution_count": 35,
      "outputs": []
    },
    {
      "cell_type": "markdown",
      "source": [
        "11. Perform matrix multiplication using NumPy.\n"
      ],
      "metadata": {
        "id": "tRG6YDFa5qMl"
      }
    },
    {
      "cell_type": "code",
      "source": [
        " #code for the above ques.\n",
        "import numpy as np\n",
        "\n",
        "matrix1 = np.array([[1, 2], [3, 4]])\n",
        "matrix2 = np.array([[5, 6], [7, 8]])\n",
        "result = np.dot(matrix1, matrix2)"
      ],
      "metadata": {
        "id": "Noo0VNZE6R2D"
      },
      "execution_count": 36,
      "outputs": []
    },
    {
      "cell_type": "markdown",
      "source": [
        "12. Use Pandas to load a CSV file and display its first 5 rows.\n"
      ],
      "metadata": {
        "id": "_ZbkDpNP5sAR"
      }
    },
    {
      "cell_type": "code",
      "source": [
        "#code for the above ques.\n",
        "import pandas as pd\n",
        "data = {'Name': ['Alice', 'Bob', 'Charlie'],\n",
        "         'Age': [25, 30, 35],\n",
        "         'City': ['New York', 'San Francisco', 'Los Angeles']\n",
        "        }\n",
        "df = pd.DataFrame(data)\n",
        "\n",
        "file_path = 'your_file.csv'\n",
        "df = pd.DataFrame(data)\n",
        "df.to_csv(file_path, index=False)\n",
        "df = pd.read_csv('data.csv')\n",
        "print(df.head())\n",
        "df = pd.read_csv('data.csv')\n",
        "print(df.head())\n",
        "try:\n",
        "    file = open('data.csv', 'r')\n",
        "except Exception as e:\n",
        "    print(f\"An error occurred: {e}\")\n",
        "finally:\n",
        "  if 'file' in locals() and file:\n",
        "      file.close()\n",
        ""
      ],
      "metadata": {
        "id": "hUwaTMJsiDws"
      },
      "execution_count": null,
      "outputs": []
    },
    {
      "cell_type": "markdown",
      "source": [
        "13. Create a 3D scatter plot using Plotly."
      ],
      "metadata": {
        "id": "ygfupHxS5tyr"
      }
    },
    {
      "cell_type": "code",
      "source": [
        " #code for the above ques.\n",
        "import plotly.express as px\n",
        "import numpy as np\n",
        "\n",
        "n = 100\n",
        "x = np.random.rand(n)\n",
        "y = np.random.rand(n)\n",
        "z = np.random.rand(n)\n",
        "fig = px.scatter_3d(x=x, y=y, z=z,\n",
        "                    title=\"3D Scatter Plot\",\n",
        "                    labels={'x':'X-axis', 'y':'Y-axis', 'z':'Z-axis'})\n",
        "fig.update_traces(marker=dict(size=5, opacity=0.8))\n",
        "fig.update_layout(scene=dict(xaxis_title='X',\n",
        "                              yaxis_title='Y',\n",
        "                              zaxis_title='Z'))\n",
        "fig.show()"
      ],
      "metadata": {
        "id": "evyqfPSmfRnm"
      },
      "execution_count": null,
      "outputs": []
    }
  ]
}